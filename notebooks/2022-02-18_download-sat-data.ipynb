## Download the along-track observation files from CMEMS website:
