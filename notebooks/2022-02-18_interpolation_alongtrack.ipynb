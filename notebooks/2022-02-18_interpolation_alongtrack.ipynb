{
 "cells": [
  {
   "cell_type": "markdown",
   "id": "4ef9d451-0a6b-4f25-b9c8-e3e6978859ed",
   "metadata": {},
   "source": [
    "# Interpolation of model gridded data along satellite tracks\n",
    "\n",
    "* The space-time interpolation is made with the software Gonzag (https://github.com/brodeau/gonzag) from Laurent Brodeau, based on the Akima interpolation method. To download the software: `git clone https://github.com/brodeau/gonzag.git`\n",
    "\n",
    "*  Each file is 6-month long. The model gridded files and the satellite along track data have been prepared and downloaded previously (see this notebook).\n",
    "\n",
    "* The present notebook reads the files and perform the interpolation, and then save outputs.\n",
    "\n",
    "* In  each file you’ll find:\n",
    "    - sla_unfiltered (the real obs value (SLA)\n",
    "    - sossheig (Sea Surface Height interpolated at all alongtrack locations)\n",
    "    - sossheig_np (Sea Surface Height at nearest model grid point )"
   ]
  },
  {
   "cell_type": "markdown",
   "id": "b479010c-bc0c-4ce2-baf1-8d8b20011eda",
   "metadata": {},
   "source": [
    "# Imports"
   ]
  },
  {
   "cell_type": "code",
   "execution_count": 1,
   "id": "3a5b92a6-a19c-46b7-bf6d-474f5e72f731",
   "metadata": {},
   "outputs": [],
   "source": [
    "import sys\n",
    "from os import getenv\n",
    "import warnings\n",
    "import pkg_resources\n",
    "import numpy as nmp\n",
    "import datetime\n",
    "# xarray\n",
    "import xarray as xr\n",
    "\n",
    "\n",
    "# import gonzag (to download the software: git clone https://github.com/brodeau/gonzag.git)\n",
    "warnings.filterwarnings(\"ignore\")\n",
    "GONZAG_DIR   = '/gpfswork/rech/egi/regi915/DEVGIT/gonzag'\n",
    "sys.path.append(GONZAG_DIR)\n",
    "import gonzag as gzg\n",
    "from gonzag.ncio import SaveTimeSeries, Save2Dfield\n",
    "from gonzag.config import IsZarr,ldebug, rmissval, l_save_track_on_model_grid\n",
    "\n",
    "# custom tools for plotting purposes\n",
    "import libslx as slx\n",
    "\n",
    "\n",
    "# cartopy\n",
    "import cartopy\n",
    "import cartopy.crs as ccrs\n",
    "\n",
    "# matplotlib\n",
    "import matplotlib.dates as mdates\n",
    "import matplotlib.pyplot as plt\n",
    "import matplotlib.colors as colors\n",
    "\n",
    "%matplotlib inline"
   ]
  },
  {
   "cell_type": "code",
   "execution_count": 2,
   "id": "7f595522-ad77-45f7-81f0-c7a1508d04d5",
   "metadata": {},
   "outputs": [
    {
     "name": "stdout",
     "output_type": "stream",
     "text": [
      "Shapely==1.7.1\n",
      "numpy==1.20.0\n",
      "matplotlib==3.3.4\n",
      "Cartopy==0.18.0\n"
     ]
    }
   ],
   "source": [
    "# list packages version for the record\n",
    "root_packages = ['cartopy','argparse','numpy', 'netCDF4', 'time','datetime','calendar','shapely','matplotlib']\n",
    "\n",
    "# print versions, but check if package is imported first\n",
    "for m in pkg_resources.working_set:\n",
    "    if m.project_name.lower() in root_packages:\n",
    "        print(f\"{m.project_name}=={m.version}\") "
   ]
  },
  {
   "cell_type": "markdown",
   "id": "5f484f49-c6e4-4b50-9228-408e8f8e7062",
   "metadata": {},
   "source": [
    "# Initializations"
   ]
  },
  {
   "cell_type": "code",
   "execution_count": 10,
   "id": "4f59d8d6-01c4-4c7b-8860-68e911ff3270",
   "metadata": {},
   "outputs": [],
   "source": [
    "# ------------------------------------ INTPUT (SATELLITE)\n",
    "# satellite directory\n",
    "GONZAG_DATA_DIR = '/gpfsstore/rech/egi/regi915/EUROSEA/SAT/NRT'\n",
    "\n",
    "# Satellite input data:\n",
    "name_sat = 'jason3'\n",
    "\n",
    "# 6-month segment to consider in sat data and model data\n",
    "# year\n",
    "YR=2020\n",
    "\n",
    "seg=1 # Seg1: july to dec. \n",
    "#seg=2 # Seg2: jan to june\n",
    "\n",
    "if seg==1:\n",
    "    da=str(YR)+'07-'+str(YR+1)+'01'\n",
    "    damod=str(YR)+\"m07-12\"\n",
    "if seg==2:\n",
    "    da=str(YR)+'01-'+str(YR)+'07'\n",
    "    damod=str(YR)+\"m01-06\"\n",
    "\n",
    "# file name\n",
    "file_sat = GONZAG_DATA_DIR+'/JASON3_'+da+'.nc'\n",
    "# variable to read\n",
    "name_ssh_sat = 'sla_unfiltered'\n",
    "name_mdt_sat = 'mdt'\n",
    "\n",
    "\n",
    "# ------------------------------------ INTPUT (MODEL)\n",
    "# model gridded data directory\n",
    "GONZAG_MOD_DIR = '/gpfsstore/rech/egi/regi915/EUROSEA/MOD'\n",
    "\n",
    "# Model input data:\n",
    "name_mod = 'eNATL60-WestMed'\n",
    "file_mod = GONZAG_MOD_DIR+\"/eNATL60MEDWEST-BLB002_y\"+damod+\".1h_sossheig_corrnc.nc4.02\"\n",
    "                                   \n",
    "# variable to read: SSH\n",
    "name_ssh_mod = 'sossheig'\n",
    "file_lsm_mod = file_mod; \n",
    "name_lsm_mod = '_FillValue' ; # we use _FillValue attribute of \"nams_ssh_mod\" in \"file_mod\"\n",
    "l_griddist = False ; # grid is not strongly distorded (set to True in the Arctic region for instance)\n",
    "\n",
    "\n",
    "# ------------------------------------ OUTPUT\n",
    "# output directory for the interpolation result\n",
    "diro = '/gpfsstore/rech/egi/regi915/EUROSEA/NRT_INTERP/'\n",
    "\n",
    "#name of output file\n",
    "namo='interpres_'+name_sat+'_'+da"
   ]
  },
  {
   "cell_type": "markdown",
   "id": "16624955-3705-4d62-a371-73d22a85726e",
   "metadata": {},
   "source": [
    "# Start interpolation steps"
   ]
  },
  {
   "cell_type": "markdown",
   "id": "8d40a6ba-ffd1-4ba3-8ad1-034f2c2edac7",
   "metadata": {},
   "source": [
    "### 1. Time overlap between model and satellite data ?"
   ]
  },
  {
   "cell_type": "code",
   "execution_count": 11,
   "id": "982bfa0c-7793-43b8-be2d-3b8610b5c566",
   "metadata": {},
   "outputs": [
    {
     "name": "stdout",
     "output_type": "stream",
     "text": [
      " *** Time overlap between model and satellite in UNIX epoch time: it1, it2 1593563400.0 -- 1609457400.0\n",
      "   => UTC: \"Wed Jul  1 00:30:00 2020\" to \"Thu Dec 31 23:30:00 2020\"\n",
      "\n"
     ]
    }
   ],
   "source": [
    "(it1,it2), (Nts,Ntm) = gzg.GetEpochTimeOverlap( file_sat , file_mod )\n",
    "print(' *** Time overlap between model and satellite in UNIX epoch time: it1, it2', it1,'--',it2)\n",
    "print('   => UTC: \"'+gzg.EpochT2Str(it1)+'\" to \"'+gzg.EpochT2Str(it2)+'\"\\n')"
   ]
  },
  {
   "cell_type": "markdown",
   "id": "4d45373c-3356-457b-a64a-e9d367695df9",
   "metadata": {},
   "source": [
    "### 2. Create object `ModelGrid` containing all the model (aka _source_) 2D+T domain grid info"
   ]
  },
  {
   "cell_type": "code",
   "execution_count": 12,
   "id": "de1f22f4-43c5-414a-bf00-8abd994c6ad8",
   "metadata": {},
   "outputs": [
    {
     "name": "stdout",
     "output_type": "stream",
     "text": [
      "\n",
      " *** what we use to define model land-sea mask:\n",
      "    => \"_FillValue@sossheig\" in \"/gpfsstore/rech/egi/regi915/EUROSEA/MOD/eNATL60MEDWEST-BLB002_y2020m07-12.1h_sossheig_corrnc.nc4.02\"\n",
      "\n",
      " *** Skipping computation of angle distortion of the model grid! (\"-D\" option not invoked)...\n",
      "\n",
      " *** About model gridded (source) domain:\n",
      "     * shape =  (803, 883)\n",
      "     * horizontal resolution:  0.01675373254921055  degrees or  1.861507223542784  km\n",
      "     * Is this a global domain w.r.t longitude:  False\n",
      "       ==> this is a regional domain\n",
      "       ==> working in the [-180:180] frame...\n",
      "     * lon_min, lon_max =  -5.68 9.6\n",
      "     * lat_min, lat_max =  34.85 45.14\n",
      "     * should we pay attention to possible STRONG local distorsion in the grid:  False\n",
      "     * number of time records of interest for the interpolation to come:  4416\n",
      "       ==> time record indices: 0 to 4415, included\n",
      "\n"
     ]
    }
   ],
   "source": [
    "clsm = name_lsm_mod\n",
    "if name_lsm_mod=='_FillValue': clsm = name_lsm_mod+'@'+name_ssh_mod\n",
    "\n",
    "ModelGrid = gzg.ModGrid( file_mod, it1, it2, file_lsm_mod, clsm, distorded_grid=l_griddist )"
   ]
  },
  {
   "cell_type": "markdown",
   "id": "d6598fb8-f98c-49a0-bce7-bc107607f5c3",
   "metadata": {},
   "source": [
    "### 3. Create object `SatelliteTrack` containing all the satellite track (aka _target_) info"
   ]
  },
  {
   "cell_type": "code",
   "execution_count": 13,
   "id": "a6f5a923-1e21-4712-8470-2a0bb8439fd7",
   "metadata": {},
   "outputs": [
    {
     "name": "stdout",
     "output_type": "stream",
     "text": [
      " *** [SatTrack()] Analyzing the time vector in /gpfsstore/rech/egi/regi915/EUROSEA/SAT/NRT/JASON3_202007-202101.nc ...\n",
      "\n",
      " *** About satellite track (target) domain:\n",
      "     * number of time records of interest for the interpolation to come:  18116\n",
      "       ==> time record indices: 52418 to 9191312, included\n",
      "\n"
     ]
    }
   ],
   "source": [
    "SatelliteTrack = gzg.SatTrack( file_sat, it1, it2, Np=Nts, \\\n",
    "                              domain_bounds=ModelGrid.domain_bounds, l_0_360=ModelGrid.l360 )"
   ]
  },
  {
   "cell_type": "markdown",
   "id": "eb0ead3b-a1da-4c21-9f1b-d21c9a531a32",
   "metadata": {},
   "source": [
    "### 4. Build the bilinear mapping & Perform the space-time interpolation"
   ]
  },
  {
   "cell_type": "code",
   "execution_count": 14,
   "id": "00054b83-bfa4-484a-a486-b4ac2f902ce4",
   "metadata": {},
   "outputs": [
    {
     "name": "stdout",
     "output_type": "stream",
     "text": [
      " *** \"found\" distance criterion when searching for nearest point on model grid is  1.3961304176570881  km\n",
      "\n",
      " *** Will use zoom boxes of width of 269 points for 1st attempts of nearest-point location...\n",
      "\n",
      "\n",
      " *** Finding nearest points on source (model) grid... (rd_found_km, np_box_r = 1.3961304176570881 134 )\n",
      "      +++ Treated point: 1811/18116 \n",
      "          ==> Sat. coordinates:     38.436 0.887\n",
      "          ==> Model nearest point:  38.438 0.884  ( 268 388 )\n",
      "      +++ Treated point: 3622/18116 \n",
      "          ==> Sat. coordinates:     38.341 7.687\n",
      "          ==> Model nearest point:  38.341 7.692  ( 273 795 )\n",
      "      +++ Treated point: 5433/18116 \n",
      "          ==> Sat. coordinates:     36.541 -2.472\n",
      "          ==> Model nearest point:  36.547 357.535  ( 117 191 )\n",
      "      +++ Treated point: 7244/18116 \n",
      "          ==> Sat. coordinates:     41.039 2.936\n",
      "          ==> Model nearest point:  41.04 2.931  ( 483 503 )\n",
      "      +++ Treated point: 9055/18116 \n",
      "          ==> Sat. coordinates:     37.613 3.169\n",
      "          ==> Model nearest point:  37.616 3.166  ( 207 526 )\n",
      "      +++ Treated point: 10866/18116 \n",
      "          ==> Sat. coordinates:     45.125 -2.422\n",
      "          ==> Model nearest point:  44.411 9.598  ( -1 -1 )\n",
      "      +++ Treated point: 12677/18116 \n",
      "          ==> Sat. coordinates:     43.557 -1.888\n",
      "          ==> Model nearest point:  43.554 358.105  ( 679 207 )\n",
      "      +++ Treated point: 14488/18116 \n",
      "          ==> Sat. coordinates:     40.884 2.625\n",
      "          ==> Model nearest point:  40.881 2.619  ( 469 485 )\n",
      "      +++ Treated point: 16299/18116 \n",
      "          ==> Sat. coordinates:     38.264 9.274\n",
      "          ==> Model nearest point:  44.411 9.598  ( -1 -1 )\n",
      "      +++ Treated point: 18110/18116 \n",
      "          ==> Sat. coordinates:     36.35 -3.311\n",
      "          ==> Model nearest point:  36.347 356.695  ( 101 141 )\n",
      "     ***    Done! *** \n",
      "\n",
      "  *** Determining source meshes...\n",
      "     ***    Done! *** \n",
      "\n",
      "  *** Computing bilinear weights...\n",
      "     ***    Done! *** \n",
      "\n",
      "\n",
      " *** Starting space-time interpolation of model data onto the 18116 selected track points...\n",
      "      jt = 00000 => satelite time = Wed Jul  1 14:10:15 2020\n",
      "      jt = 01811 => satelite time = Sun Jul 19 01:27:24 2020\n",
      "      jt = 03622 => satelite time = Thu Aug  6 06:32:59 2020\n",
      "      jt = 05433 => satelite time = Mon Aug 24 03:39:58 2020\n",
      "      jt = 07244 => satelite time = Fri Sep 11 23:13:48 2020\n",
      "      jt = 09055 => satelite time = Tue Sep 29 10:29:07 2020\n",
      "      jt = 10866 => satelite time = Sat Oct 17 15:33:08 2020\n",
      "      jt = 12677 => satelite time = Sat Nov  7 11:51:41 2020\n",
      "      jt = 14488 => satelite time = Tue Nov 24 23:09:08 2020\n",
      "      jt = 16299 => satelite time = Sun Dec 13 18:43:39 2020\n",
      "      jt = 18110 => satelite time = Thu Dec 31 15:49:16 2020\n",
      " *** Space-time interpolation done!\n",
      "\n",
      "\n",
      " *** Time report:\n",
      "     - Construction of the source-target bilinear mapping took: 83.0 s\n",
      "     - Interpolation of model data on the 18116 satellite points took: 63.0 s \n",
      "\n"
     ]
    }
   ],
   "source": [
    "Solution = gzg.Model2SatTrack(ModelGrid, name_ssh_mod, SatelliteTrack, name_ssh_sat)"
   ]
  },
  {
   "cell_type": "markdown",
   "id": "cc63b0ac-f7f0-4e93-a50d-9de3c91e50bb",
   "metadata": {},
   "source": [
    "### --> Now the object `Solution` contains everything you need to start the plots and the science... "
   ]
  },
  {
   "cell_type": "markdown",
   "id": "0d80314c-692b-4a0e-8708-8c9d86c078cc",
   "metadata": {},
   "source": [
    "### 4. Quick plot on map as a check"
   ]
  },
  {
   "cell_type": "code",
   "execution_count": 15,
   "id": "ee43a72b-bf6a-4db7-8103-350950ef47e2",
   "metadata": {},
   "outputs": [
    {
     "data": {
      "image/png": "[encoded data removed]",
      "text/plain": [
       "<Figure size 648x589.291 with 1 Axes>"
      ]
     },
     "metadata": {},
     "output_type": "display_data"
    }
   ],
   "source": [
    "# MAP PLOT\n",
    "\n",
    "XFLD = nmp.flipud(Solution.XNPtrack)\n",
    "(idy,idx) = nmp.where( XFLD > 0 ) ; # that's track points...\n",
    "\n",
    "XMSK = 1 - nmp.ma.getmask(XFLD).astype(nmp.int8)\n",
    "pmsk = nmp.ma.masked_where(XMSK<0.1, XMSK*0.7)\n",
    "del XMSK\n",
    "\n",
    "(Nj,Ni) = XFLD.shape\n",
    "\n",
    "fig = plt.figure(num = 1, figsize=(9,9*Nj/Ni), facecolor='w', edgecolor='k')\n",
    "ax  = plt.axes([0., 0., 1., 1.],     facecolor = 'w')\n",
    "norm_fld = colors.Normalize(vmin =nmp.amin(XFLD[(idy,idx)]), vmax=nmp.amax(XFLD[(idy,idx)]), clip = False)\n",
    "\n",
    "# plot obs locations \n",
    "cf = ax.scatter(idx, idy, c=XFLD[(idy,idx)], cmap = 'nipy_spectral', norm = norm_fld, alpha=0.5, marker='.', s=3 )\n",
    "#\n",
    "norm_lsm = colors.Normalize(vmin = 0., vmax = 1., clip = False)\n",
    "\n",
    "# plot model mask\n",
    "cm = ax.imshow(pmsk, cmap='Greys', norm=norm_lsm, interpolation='none')\n"
   ]
  },
  {
   "cell_type": "markdown",
   "id": "e886f350-24d8-4e83-b879-18d0cd6359d1",
   "metadata": {},
   "source": [
    "### 5. Write output in netcdf file"
   ]
  },
  {
   "cell_type": "code",
   "execution_count": 16,
   "id": "46db8e07-1e12-4161-8867-09bfdafdfdfc",
   "metadata": {},
   "outputs": [
    {
     "name": "stdout",
     "output_type": "stream",
     "text": [
      "\n",
      " *** About to write file \"/gpfsstore/rech/egi/regi915/EUROSEA/NRT_INTERP/interpres_jason3_202007-202101.nc\"...\n",
      "   ==> writing \"time\"\n",
      "   ==> writing \"latitude\"\n",
      "   ==> writing \"longitude\"\n",
      "   ==> writing \"sossheig_np\"\n",
      "   ==> writing \"sossheig_bl\"\n",
      "   ==> writing \"sla_unfiltered\"\n",
      "   ==> writing \"distance\"\n",
      " *** \"/gpfsstore/rech/egi/regi915/EUROSEA/NRT_INTERP/interpres_jason3_202007-202101.nc\" successfully written!\n",
      "\n"
     ]
    }
   ],
   "source": [
    "c1     = 'Model SSH interpolated in space (' ; c2=') and time on satellite track'\n",
    "vvar   = [ 'latitude', 'longitude', name_ssh_mod+'_np'   , name_ssh_mod+'_bl' , name_ssh_sat          , 'distance'                        ]\n",
    "vunits = [ 'deg.N'   , 'deg.E'    ,          'm'         ,     'm'            ,    'm'                ,    'km'                               ]\n",
    "vlongN = [ 'Latitude', 'Longitude', c1+'nearest-point'+c2,  c1+'bilinear'+c2  , 'Input satellite data', 'Cumulated distance from first point' ]\n",
    "\n",
    "iw = SaveTimeSeries( Solution.time, \\\n",
    "                     nmp.array( [Solution.lat, Solution.lon, Solution.ssh_mod_np, Solution.ssh_mod, Solution.ssh_sat, Solution.distance] ), \\\n",
    "                     vvar, diro+namo+'.nc', \\\n",
    "                     time_units='seconds since 1970-01-01 00:00:00', \\\n",
    "                     vunits=vunits, vlnm=vlongN, missing_val=rmissval )"
   ]
  },
  {
   "cell_type": "markdown",
   "id": "7615d13c-34ef-4c1b-8865-6e7c3b155f40",
   "metadata": {},
   "source": [
    "## You're done with the interpolation. --> Now look to notebook 'check_and_plot' to see how to read the interoplated file and plot tracks as a check."
   ]
  },
  {
   "cell_type": "code",
   "execution_count": null,
   "id": "45cbee2b-be6a-4bbd-91f9-80e66bb2a443",
   "metadata": {},
   "outputs": [],
   "source": []
  }
 ],
 "metadata": {
  "kernelspec": {
   "display_name": "Python 3",
   "language": "python",
   "name": "python3"
  },
  "language_info": {
   "codemirror_mode": {
    "name": "ipython",
    "version": 3
   },
   "file_extension": ".py",
   "mimetype": "text/x-python",
   "name": "python",
   "nbconvert_exporter": "python",
   "pygments_lexer": "ipython3",
   "version": "3.9.1"
  }
 },
 "nbformat": 4,
 "nbformat_minor": 5
}
